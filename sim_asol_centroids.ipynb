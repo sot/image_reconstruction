{
 "cells": [
  {
   "cell_type": "markdown",
   "metadata": {},
   "source": [
    "## Estimate aspect solution uncertainty from star centroid residuals\n",
    "\n",
    "When the ground aspect pipeline gets run there is no accurate estimate of the\n",
    "aspect solution uncertainty.  One proxy that has been used informally is to\n",
    "use the aspect solution to de-dither star centroids and thus determine star\n",
    "centroid residuals (from the mean aspect solution).  The star centroid residuals\n",
    "have a component from both the true residuals and the aspect solution uncertainty.\n",
    "Thus one can state that the minimum star centroid standard deviation (out of the\n",
    "5 to 8 guide stars) represents an upper limit on aspect solution error.\n",
    "However, this is somewhat circular because the aspect solution is influenced by\n",
    "the star centroids.\n",
    "\n",
    "In order to understand the impact of this circularity, this notebook does\n",
    "a simple simulation:\n",
    "\n",
    "- Simulate an observation with 5 stars each having a centroid residual sigma of between 0.05 and 0.20 arcsec.  \n",
    "- Use a \"snapshot\" method of determining the \"aspect solution\", which in this case simply means the weighted mean of the observed centroids.  \n",
    "- This is done for 1-axis only.  \n",
    "- The actual mean values of the star centroids do not matter and only the standard deviation matters.\n",
    "- Plot the minimum star standard deviation vs. the aspect solution RMS\n",
    "\n",
    "Under these assumptions it is seen that the **aspect solution RMS is always less than the minimum star standard deviation**.\n",
    " "
   ]
  },
  {
   "cell_type": "code",
   "execution_count": 1,
   "metadata": {
    "collapsed": true
   },
   "outputs": [],
   "source": [
    "import numpy as np\n",
    "import matplotlib.pyplot as plt\n",
    "%matplotlib inline"
   ]
  },
  {
   "cell_type": "code",
   "execution_count": 2,
   "metadata": {
    "collapsed": true
   },
   "outputs": [],
   "source": [
    "N_READOUT = 1000"
   ]
  },
  {
   "cell_type": "code",
   "execution_count": 3,
   "metadata": {
    "collapsed": false
   },
   "outputs": [],
   "source": [
    "def sim_obs():\n",
    "    \"\"\"\n",
    "    Simulate an observation with 5 stars each having a centroid residual sigma\n",
    "    of between 0.05 and 0.20 arcsec.  Use a \"snapshot\" method of determining the\n",
    "    \"aspect solution\", which in this case simply means the weighted mean of the\n",
    "    observed centroids.  This is done for 1-axis only.  The actual mean values\n",
    "    of the star centroids does not matter and is just set to 0.0.\n",
    "    \n",
    "    :returns: RMS of aspect solution, stddev of centroid residuals\n",
    "    \"\"\"\n",
    "    # Star centroid residual sigmas\n",
    "    n_stars = 5\n",
    "    sigmas = np.random.uniform(0.05, 0.20, size=n_stars)\n",
    "    \n",
    "    # Simulated star centroids (all with mean value 0.0)\n",
    "    y = np.random.normal(size=(N_READOUT, n_stars)) * sigmas\n",
    "    \n",
    "    # Aspect solution as weighted average of star centroids\n",
    "    y_asol = np.average(y, weights=1/sigmas, axis=1)\n",
    "    \n",
    "    # Measured residuals from \"aspect solution\" and std dev\n",
    "    y_resid = y.T - y_asol\n",
    "    y_resid_std = np.std(y_resid, axis=1)\n",
    "    \n",
    "    return np.sqrt(np.mean(y_asol ** 2)), np.min(y_resid_std)"
   ]
  },
  {
   "cell_type": "code",
   "execution_count": 4,
   "metadata": {
    "collapsed": false
   },
   "outputs": [],
   "source": [
    "n_sim = 1000\n",
    "yc_std = np.zeros(n_sim)\n",
    "yr_std_min = np.zeros(n_sim)\n",
    "\n",
    "for i in range(n_sim):\n",
    "    yc_std[i], yr_std_min[i] = sim_obs()"
   ]
  },
  {
   "cell_type": "code",
   "execution_count": 5,
   "metadata": {
    "collapsed": false
   },
   "outputs": [
    {
     "data": {
      "image/png": "[encoded data removed]",
      "text/plain": [
       "<matplotlib.figure.Figure at 0x7f64273f4590>"
      ]
     },
     "metadata": {},
     "output_type": "display_data"
    }
   ],
   "source": [
    "plt.plot(yc_std, yr_std_min, '.')\n",
    "plt.plot([0.0, 0.14], [0.0, 0.14], '--r')\n",
    "plt.grid()\n",
    "plt.xlabel('Aspect solution RMS error (arcsec)')\n",
    "plt.ylabel('Min star centroid std dev (arcsec)')\n",
    "plt.xlim(0, 0.1);"
   ]
  },
  {
   "cell_type": "markdown",
   "metadata": {},
   "source": [
    "**Figure 1** - plot showing the minimum star centroid standard deviation (out of 5 stars) versus simulated aspect solution RMS error in one axis.  This highlights that the minimum star centroid stddev seen in the set of 5 stars is always greater than the true aspect solution error.  This assumes gaussian statistics and an instantaneous \"snapshot\" method of deriving the aspect solution (weighted mean).  In reality the Kalman filter uses gyro data and optimal filtering, so the actual error for Chandra aspect solutions should be even smaller.\n",
    "\n",
    "Therefore the **minimum star centroid standard deviation** for an observation is a reasonable upper limit on the image reconstruction RMS error."
   ]
  }
 ],
 "metadata": {
  "kernelspec": {
   "display_name": "Python 2",
   "language": "python",
   "name": "python2"
  },
  "language_info": {
   "codemirror_mode": {
    "name": "ipython",
    "version": 2
   },
   "file_extension": ".py",
   "mimetype": "text/x-python",
   "name": "python",
   "nbconvert_exporter": "python",
   "pygments_lexer": "ipython2",
   "version": "2.7.9"
  }
 },
 "nbformat": 4,
 "nbformat_minor": 0
}
