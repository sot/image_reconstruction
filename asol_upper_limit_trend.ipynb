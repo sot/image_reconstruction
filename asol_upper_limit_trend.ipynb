{
 "cells": [
  {
   "cell_type": "markdown",
   "metadata": {},
   "source": [
    "# Mission trend for upper limit on aspect solution RMS error\n",
    "\n",
    "Using the method described in the `sim_asol_centroids` notebook, this plots the mission trend of the upper limit on 1-axis aspect solution RMS error."
   ]
  },
  {
   "cell_type": "code",
   "execution_count": 1,
   "metadata": {
    "collapsed": true
   },
   "outputs": [],
   "source": [
    "from mica.vv import get_rms_data\n",
    "from astropy.table import Table\n",
    "import matplotlib.pyplot as plt\n",
    "from Ska.Matplotlib import plot_cxctime\n",
    "from astropy.time import Time\n",
    "%matplotlib inline"
   ]
  },
  {
   "cell_type": "code",
   "execution_count": 2,
   "metadata": {
    "collapsed": false
   },
   "outputs": [],
   "source": [
    "# Get the mica table of V&V data\n",
    "dat = Table(get_rms_data())"
   ]
  },
  {
   "cell_type": "code",
   "execution_count": 4,
   "metadata": {
    "collapsed": false
   },
   "outputs": [
    {
     "data": {
      "text/html": [
       "&lt;Table masked=False length=71321&gt;\n",
       "<table id=\"table140199230508944\">\n",
       "<thead><tr><th>obsid</th><th>isdefault</th><th>tstart</th><th>used</th><th>slot</th><th>type</th><th>dy_rms</th><th>dz_rms</th></tr></thead>\n",
       "<thead><tr><th>int32</th><th>int32</th><th>float64</th><th>int32</th><th>int32</th><th>string80</th><th>float64</th><th>float64</th></tr></thead>\n",
       "<tr><td>2</td><td>1</td><td>69272595.7775</td><td>1</td><td>3</td><td>GUIDE</td><td>0.0364270326139</td><td>0.0360691427786</td></tr>\n",
       "<tr><td>2</td><td>1</td><td>69272595.7775</td><td>1</td><td>5</td><td>GUIDE</td><td>0.0411715255054</td><td>0.0442287745192</td></tr>\n",
       "<tr><td>2</td><td>1</td><td>69272595.7775</td><td>1</td><td>4</td><td>GUIDE</td><td>0.0556809854887</td><td>0.038010873714</td></tr>\n",
       "<tr><td>2</td><td>1</td><td>69272595.7775</td><td>1</td><td>7</td><td>GUIDE</td><td>0.0574426287559</td><td>0.0601175648845</td></tr>\n",
       "<tr><td>2</td><td>1</td><td>69272595.7775</td><td>1</td><td>6</td><td>GUIDE</td><td>0.0565668420226</td><td>0.0494141196356</td></tr>\n",
       "<tr><td>5</td><td>1</td><td>80301654.6078</td><td>1</td><td>3</td><td>GUIDE</td><td>0.0436209288956</td><td>0.0366183758036</td></tr>\n",
       "<tr><td>5</td><td>1</td><td>80301654.6078</td><td>1</td><td>5</td><td>GUIDE</td><td>0.0398383547655</td><td>0.0357611319025</td></tr>\n",
       "<tr><td>5</td><td>1</td><td>80301654.6078</td><td>1</td><td>4</td><td>GUIDE</td><td>0.0572576844241</td><td>0.0505640839199</td></tr>\n",
       "<tr><td>5</td><td>1</td><td>80301654.6078</td><td>1</td><td>7</td><td>GUIDE</td><td>0.0411949994465</td><td>0.0453628024224</td></tr>\n",
       "<tr><td>5</td><td>1</td><td>80301654.6078</td><td>1</td><td>6</td><td>GUIDE</td><td>0.0541942173107</td><td>0.0517387509416</td></tr>\n",
       "<tr><td>...</td><td>...</td><td>...</td><td>...</td><td>...</td><td>...</td><td>...</td><td>...</td></tr>\n",
       "<tr><td>62825</td><td>1</td><td>243278711.955</td><td>1</td><td>3</td><td>GUIDE</td><td>0.0542666695277</td><td>0.0590725305409</td></tr>\n",
       "<tr><td>62825</td><td>1</td><td>243278711.955</td><td>1</td><td>5</td><td>GUIDE</td><td>0.0884065218033</td><td>0.102039197212</td></tr>\n",
       "<tr><td>62825</td><td>1</td><td>243278711.955</td><td>1</td><td>4</td><td>GUIDE</td><td>0.0438319549565</td><td>0.0422587966479</td></tr>\n",
       "<tr><td>62825</td><td>1</td><td>243278711.955</td><td>1</td><td>7</td><td>GUIDE</td><td>0.133023298747</td><td>0.121750647763</td></tr>\n",
       "<tr><td>62825</td><td>1</td><td>243278711.955</td><td>1</td><td>6</td><td>GUIDE</td><td>0.070758062285</td><td>0.0660649442163</td></tr>\n",
       "<tr><td>62877</td><td>1</td><td>77503172.3418</td><td>1</td><td>3</td><td>GUIDE</td><td>0.0582477057756</td><td>0.04963447611</td></tr>\n",
       "<tr><td>62877</td><td>1</td><td>77503172.3418</td><td>1</td><td>5</td><td>GUIDE</td><td>0.0594237572127</td><td>0.0597524544732</td></tr>\n",
       "<tr><td>62877</td><td>1</td><td>77503172.3418</td><td>1</td><td>4</td><td>GUIDE</td><td>0.0627279048848</td><td>0.0444410076397</td></tr>\n",
       "<tr><td>62877</td><td>1</td><td>77503172.3418</td><td>1</td><td>7</td><td>GUIDE</td><td>0.0591923004329</td><td>0.0784747755024</td></tr>\n",
       "<tr><td>62877</td><td>1</td><td>77503172.3418</td><td>1</td><td>6</td><td>GUIDE</td><td>0.0713072041635</td><td>0.0566349753997</td></tr>\n",
       "</table>"
      ],
      "text/plain": [
       "<Table masked=False length=71321>\n",
       "obsid isdefault     tstart     used ...   type        dy_rms          dz_rms    \n",
       "int32   int32      float64    int32 ... string80     float64         float64    \n",
       "----- --------- ------------- ----- ... -------- --------------- ---------------\n",
       "    2         1 69272595.7775     1 ...    GUIDE 0.0364270326139 0.0360691427786\n",
       "    2         1 69272595.7775     1 ...    GUIDE 0.0411715255054 0.0442287745192\n",
       "    2         1 69272595.7775     1 ...    GUIDE 0.0556809854887  0.038010873714\n",
       "    2         1 69272595.7775     1 ...    GUIDE 0.0574426287559 0.0601175648845\n",
       "    2         1 69272595.7775     1 ...    GUIDE 0.0565668420226 0.0494141196356\n",
       "    5         1 80301654.6078     1 ...    GUIDE 0.0436209288956 0.0366183758036\n",
       "    5         1 80301654.6078     1 ...    GUIDE 0.0398383547655 0.0357611319025\n",
       "    5         1 80301654.6078     1 ...    GUIDE 0.0572576844241 0.0505640839199\n",
       "    5         1 80301654.6078     1 ...    GUIDE 0.0411949994465 0.0453628024224\n",
       "    5         1 80301654.6078     1 ...    GUIDE 0.0541942173107 0.0517387509416\n",
       "  ...       ...           ...   ... ...      ...             ...             ...\n",
       "62825         1 243278711.955     1 ...    GUIDE 0.0542666695277 0.0590725305409\n",
       "62825         1 243278711.955     1 ...    GUIDE 0.0884065218033  0.102039197212\n",
       "62825         1 243278711.955     1 ...    GUIDE 0.0438319549565 0.0422587966479\n",
       "62825         1 243278711.955     1 ...    GUIDE  0.133023298747  0.121750647763\n",
       "62825         1 243278711.955     1 ...    GUIDE  0.070758062285 0.0660649442163\n",
       "62877         1 77503172.3418     1 ...    GUIDE 0.0582477057756   0.04963447611\n",
       "62877         1 77503172.3418     1 ...    GUIDE 0.0594237572127 0.0597524544732\n",
       "62877         1 77503172.3418     1 ...    GUIDE 0.0627279048848 0.0444410076397\n",
       "62877         1 77503172.3418     1 ...    GUIDE 0.0591923004329 0.0784747755024\n",
       "62877         1 77503172.3418     1 ...    GUIDE 0.0713072041635 0.0566349753997"
      ]
     },
     "execution_count": 4,
     "metadata": {},
     "output_type": "execute_result"
    }
   ],
   "source": [
    "# Filter table to select only useful and final data\n",
    "datm = dat['obsid isdefault tstart  used slot type dy_rms dz_rms'.split()]\n",
    "ok = (dat['type'] == 'GUIDE') & (dat['used'] == 1) & (dat['isdefault'] == 1)\n",
    "datm = datm[ok]\n",
    "datm.sort('obsid')\n",
    "datm"
   ]
  },
  {
   "cell_type": "code",
   "execution_count": 5,
   "metadata": {
    "collapsed": false
   },
   "outputs": [],
   "source": [
    "# Group by obsid\n",
    "datmg = datm['obsid tstart dy_rms dz_rms'.split()].group_by('obsid')"
   ]
  },
  {
   "cell_type": "code",
   "execution_count": 6,
   "metadata": {
    "collapsed": false
   },
   "outputs": [
    {
     "data": {
      "text/html": [
       "&lt;Table masked=False length=5&gt;\n",
       "<table id=\"table140199230418768\">\n",
       "<thead><tr><th>obsid</th><th>tstart</th><th>dy_rms</th><th>dz_rms</th></tr></thead>\n",
       "<thead><tr><th>int32</th><th>float64</th><th>float64</th><th>float64</th></tr></thead>\n",
       "<tr><td>5</td><td>80301654.6078</td><td>0.0436209288956</td><td>0.0366183758036</td></tr>\n",
       "<tr><td>5</td><td>80301654.6078</td><td>0.0398383547655</td><td>0.0357611319025</td></tr>\n",
       "<tr><td>5</td><td>80301654.6078</td><td>0.0572576844241</td><td>0.0505640839199</td></tr>\n",
       "<tr><td>5</td><td>80301654.6078</td><td>0.0411949994465</td><td>0.0453628024224</td></tr>\n",
       "<tr><td>5</td><td>80301654.6078</td><td>0.0541942173107</td><td>0.0517387509416</td></tr>\n",
       "</table>"
      ],
      "text/plain": [
       "<Table masked=False length=5>\n",
       "obsid     tstart         dy_rms          dz_rms    \n",
       "int32    float64        float64         float64    \n",
       "----- ------------- --------------- ---------------\n",
       "    5 80301654.6078 0.0436209288956 0.0366183758036\n",
       "    5 80301654.6078 0.0398383547655 0.0357611319025\n",
       "    5 80301654.6078 0.0572576844241 0.0505640839199\n",
       "    5 80301654.6078 0.0411949994465 0.0453628024224\n",
       "    5 80301654.6078 0.0541942173107 0.0517387509416"
      ]
     },
     "execution_count": 6,
     "metadata": {},
     "output_type": "execute_result"
    }
   ],
   "source": [
    "datmg.groups[1]"
   ]
  },
  {
   "cell_type": "code",
   "execution_count": 7,
   "metadata": {
    "collapsed": false
   },
   "outputs": [],
   "source": [
    "# Select the minimum within each obsid\n",
    "datmg_min = datmg.groups.aggregate(np.min)"
   ]
  },
  {
   "cell_type": "code",
   "execution_count": 8,
   "metadata": {
    "collapsed": false
   },
   "outputs": [
    {
     "data": {
      "image/png": "[encoded data removed]",
      "text/plain": [
       "<matplotlib.figure.Figure at 0x7f82ad56f350>"
      ]
     },
     "metadata": {},
     "output_type": "display_data"
    }
   ],
   "source": [
    "# Make the plot\n",
    "dyz_rms = np.maximum(datmg_min['dy_rms'], datmg_min['dz_rms'])\n",
    "for sym, alpha in (('.b', 0.8), (',r', 0.5), (',y', 0.15)):\n",
    "    plot_cxctime(datmg_min['tstart'], dyz_rms, sym, alpha=alpha)\n",
    "plt.grid()\n",
    "plt.text(Time('2013:240').plot_date, 0.21, 'Obsid 14557', ha='right')\n",
    "plt.text(Time('2012:180').plot_date, 0.255, 'Obsid 14462', ha='right')\n",
    "plt.ylabel('Error upper limit (arcsec)');\n",
    "plt.title('Aspect solution 1-axis RMS error upper limit vs. time');"
   ]
  },
  {
   "cell_type": "markdown",
   "metadata": {},
   "source": [
    "**Figure 1** - Using the method described in the `sim_asol_centroids` notebook, this plot shows the mission trend of the upper limit on 1-axis aspect solution RMS error."
   ]
  },
  {
   "cell_type": "code",
   "execution_count": 9,
   "metadata": {
    "collapsed": false
   },
   "outputs": [
    {
     "data": {
      "text/html": [
       "&lt;Table masked=False length=2&gt;\n",
       "<table id=\"table140199230505424\">\n",
       "<thead><tr><th>obsid</th><th>tstart</th><th>dy_rms</th><th>dz_rms</th></tr></thead>\n",
       "<thead><tr><th>int32</th><th>float64</th><th>float64</th><th>float64</th></tr></thead>\n",
       "<tr><td>14462</td><td>465928380.69</td><td>0.254792472566</td><td>0.0955898798809</td></tr>\n",
       "<tr><td>14557</td><td>497795872.266</td><td>0.186924259725</td><td>0.207943853981</td></tr>\n",
       "</table>"
      ],
      "text/plain": [
       "<Table masked=False length=2>\n",
       "obsid     tstart        dy_rms          dz_rms    \n",
       "int32    float64       float64         float64    \n",
       "----- ------------- -------------- ---------------\n",
       "14462  465928380.69 0.254792472566 0.0955898798809\n",
       "14557 497795872.266 0.186924259725  0.207943853981"
      ]
     },
     "execution_count": 9,
     "metadata": {},
     "output_type": "execute_result"
    }
   ],
   "source": [
    "# Show outliers\n",
    "ok = dyz_rms > 0.2\n",
    "datmg_min[ok]"
   ]
  },
  {
   "cell_type": "markdown",
   "metadata": {},
   "source": [
    "- Obsid 14462 had gyro yaw bias problems\n",
    "- Obsid 14557 had huge systematic errors across most slots (reason??)"
   ]
  },
  {
   "cell_type": "code",
   "execution_count": null,
   "metadata": {
    "collapsed": true
   },
   "outputs": [],
   "source": []
  }
 ],
 "metadata": {
  "kernelspec": {
   "display_name": "Python 2",
   "language": "python",
   "name": "python2"
  },
  "language_info": {
   "codemirror_mode": {
    "name": "ipython",
    "version": 2
   },
   "file_extension": ".py",
   "mimetype": "text/x-python",
   "name": "python",
   "nbconvert_exporter": "python",
   "pygments_lexer": "ipython2",
   "version": "2.7.9"
  }
 },
 "nbformat": 4,
 "nbformat_minor": 0
}
